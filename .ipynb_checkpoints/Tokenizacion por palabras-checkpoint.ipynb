{
 "cells": [
  {
   "cell_type": "code",
   "execution_count": 2,
   "metadata": {},
   "outputs": [],
   "source": [
    "import pymongo\n",
    "import nltk\n",
    "import string"
   ]
  },
  {
   "cell_type": "code",
   "execution_count": 8,
   "metadata": {},
   "outputs": [],
   "source": [
    "client = pymongo.MongoClient(\"mongodb://localhost:27017/\")\n",
    "sentenceDB  = client[\"Sentencias\"]\n",
    "sentenceCollection = sentenceDB[\"Sentencias Judiciales\"]\n",
    "tokensCollection =  sentenceDB[\"WordTokens\"]"
   ]
  },
  {
   "cell_type": "code",
   "execution_count": 9,
   "metadata": {},
   "outputs": [],
   "source": [
    "def tokenizeByWord(text):\n",
    "    word_tokens = nltk.word_tokenize(text)\n",
    "    return word_tokens"
   ]
  },
  {
   "cell_type": "code",
   "execution_count": 15,
   "metadata": {},
   "outputs": [],
   "source": [
    "def removeStopWords(wordList):\n",
    "    extraPunctuation = [\"''\",\"``\"]\n",
    "    StopWords = set( nltk.corpus.stopwords.words('spanish') + list(string.punctuation)+extraPunctuation)\n",
    "    cleanWordList = [word.lower() for word in wordList if word not in StopWords]\n",
    "    return cleanWordList"
   ]
  },
  {
   "cell_type": "code",
   "execution_count": 16,
   "metadata": {},
   "outputs": [],
   "source": [
    "sentenceDocs =  sentenceCollection.find()\n",
    "\n",
    "for doc in sentenceDocs:\n",
    "    text = doc['sentencia']\n",
    "    word_tokens = tokenizeByWord(text)\n",
    "    clean_word_tokens = removeStopWords(word_tokens)\n",
    "    dictionary = {\"_id\":doc['_id'],\"wordTokenList\":clean_word_tokens}\n",
    "    tokensCollection.insert_one(dictionary)"
   ]
  },
  {
   "cell_type": "code",
   "execution_count": null,
   "metadata": {},
   "outputs": [],
   "source": []
  }
 ],
 "metadata": {
  "kernelspec": {
   "display_name": "Python 3",
   "language": "python",
   "name": "python3"
  },
  "language_info": {
   "codemirror_mode": {
    "name": "ipython",
    "version": 3
   },
   "file_extension": ".py",
   "mimetype": "text/x-python",
   "name": "python",
   "nbconvert_exporter": "python",
   "pygments_lexer": "ipython3",
   "version": "3.7.4"
  }
 },
 "nbformat": 4,
 "nbformat_minor": 2
}
