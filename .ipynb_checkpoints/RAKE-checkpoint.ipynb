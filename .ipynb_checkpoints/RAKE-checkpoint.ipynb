{
 "cells": [
  {
   "cell_type": "code",
   "execution_count": 1,
   "metadata": {},
   "outputs": [],
   "source": [
    "import pymongo\n",
    "import pandas as pd"
   ]
  },
  {
   "cell_type": "code",
   "execution_count": 10,
   "metadata": {},
   "outputs": [],
   "source": [
    "client = pymongo.MongoClient(\"mongodb://localhost:27017/\")\n",
    "sentenceDB  = client[\"Sentencias\"]\n",
    "wordCollection = sentenceDB[\"WordTokens\"]\n",
    "sentenceCollection = sentenceDB[\"Sentencias Judiciales\"]"
   ]
  },
  {
   "cell_type": "code",
   "execution_count": 25,
   "metadata": {},
   "outputs": [],
   "source": [
    "sentence = sentenceCollection.find_one()['sentencia']\n",
    "\n"
   ]
  },
  {
   "cell_type": "code",
   "execution_count": 30,
   "metadata": {},
   "outputs": [],
   "source": [
    "from multi_rake import Rake"
   ]
  },
  {
   "cell_type": "code",
   "execution_count": 40,
   "metadata": {},
   "outputs": [
    {
     "name": "stdout",
     "output_type": "stream",
     "text": [
      "[('corte superior', 4.0), ('ministerio público', 4.0), ('mil doce', 4.0), ('robo agravado', 4.0), ('considerando i', 4.0), ('mandato constitucional', 4.0), ('constitución política', 4.0), ('facultad conferida', 4.0), ('procedimiento penal', 4.0), ('presunta comisión', 4.0), ('detención preventiva', 4.0), ('nombrado menor', 4.0), ('adolescentes infractores', 4.0), ('nuevos horizontes', 4.0), ('abogado defensor', 4.0), ('declaró incompetente', 4.0), ('encuentra determinada', 4.0), ('remitiendo obrados', 4.0), ('tribunal supremo', 4.0), ('considerando ii', 4.0)]\n"
     ]
    }
   ],
   "source": [
    "rake = Rake(language_code='es',max_words=2)\n",
    "\n",
    "keywords = rake.apply(sentence)\n",
    "\n",
    "print(keywords[:20])\n"
   ]
  },
  {
   "cell_type": "code",
   "execution_count": null,
   "metadata": {},
   "outputs": [],
   "source": []
  }
 ],
 "metadata": {
  "kernelspec": {
   "display_name": "Python 3",
   "language": "python",
   "name": "python3"
  },
  "language_info": {
   "codemirror_mode": {
    "name": "ipython",
    "version": 3
   },
   "file_extension": ".py",
   "mimetype": "text/x-python",
   "name": "python",
   "nbconvert_exporter": "python",
   "pygments_lexer": "ipython3",
   "version": "3.7.4"
  }
 },
 "nbformat": 4,
 "nbformat_minor": 2
}
