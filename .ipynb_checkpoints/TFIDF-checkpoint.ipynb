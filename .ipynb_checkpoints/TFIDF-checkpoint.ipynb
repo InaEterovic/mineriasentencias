{
 "cells": [
  {
   "cell_type": "code",
   "execution_count": 2,
   "metadata": {},
   "outputs": [],
   "source": [
    "import pymongo\n",
    "import pandas as pd\n",
    "import re\n",
    "import nltk\n",
    "import string\n",
    "from sklearn.feature_extraction.text import CountVectorizer\n",
    "from sklearn.feature_extraction.text import TfidfTransformer"
   ]
  },
  {
   "cell_type": "code",
   "execution_count": 3,
   "metadata": {},
   "outputs": [],
   "source": [
    "client = pymongo.MongoClient(\"mongodb://localhost:27017/\")\n",
    "sentenceDB  = client[\"Sentencias\"]\n",
    "sentenceCollection = sentenceDB[\"Sentencias Judiciales\"]\n",
    "wordCollection = sentenceDB[\"WordTokens\"]\n",
    "oracionCollection = sentenceDB[\"oracionesTokens\"]"
   ]
  },
  {
   "cell_type": "code",
   "execution_count": 4,
   "metadata": {},
   "outputs": [
    {
     "data": {
      "text/html": [
       "<div>\n",
       "<style scoped>\n",
       "    .dataframe tbody tr th:only-of-type {\n",
       "        vertical-align: middle;\n",
       "    }\n",
       "\n",
       "    .dataframe tbody tr th {\n",
       "        vertical-align: top;\n",
       "    }\n",
       "\n",
       "    .dataframe thead th {\n",
       "        text-align: right;\n",
       "    }\n",
       "</style>\n",
       "<table border=\"1\" class=\"dataframe\">\n",
       "  <thead>\n",
       "    <tr style=\"text-align: right;\">\n",
       "      <th></th>\n",
       "      <th>_id</th>\n",
       "      <th>url</th>\n",
       "      <th>sentencia</th>\n",
       "    </tr>\n",
       "  </thead>\n",
       "  <tbody>\n",
       "    <tr>\n",
       "      <td>0</td>\n",
       "      <td>5e9dc2a8ae8a3bcfbdb7debf</td>\n",
       "      <td>http://tribunalsupremo.organojudicial.gob.bo/A...</td>\n",
       "      <td>\\n  SALA \\r\\n  PLENA\\n \\nAUTO \\r\\n  SUPREMO: 1...</td>\n",
       "    </tr>\n",
       "    <tr>\n",
       "      <td>1</td>\n",
       "      <td>5e9dc2a8ae8a3bcfbdb7dec0</td>\n",
       "      <td>http://tribunalsupremo.organojudicial.gob.bo/A...</td>\n",
       "      <td>\\n  SALA PLENA\\n\\nSENTENCIA:            \\r\\n  ...</td>\n",
       "    </tr>\n",
       "    <tr>\n",
       "      <td>2</td>\n",
       "      <td>5e9dc2a8ae8a3bcfbdb7dec1</td>\n",
       "      <td>http://tribunalsupremo.organojudicial.gob.bo/A...</td>\n",
       "      <td>\\n  SALA PLENA\\n\\nSENTENCIA:            \\r\\n  ...</td>\n",
       "    </tr>\n",
       "    <tr>\n",
       "      <td>3</td>\n",
       "      <td>5e9dc2a8ae8a3bcfbdb7dec2</td>\n",
       "      <td>http://tribunalsupremo.organojudicial.gob.bo/A...</td>\n",
       "      <td>\\n  SALA PLENA\\n\\nSENTENCIA:            \\r\\n  ...</td>\n",
       "    </tr>\n",
       "    <tr>\n",
       "      <td>4</td>\n",
       "      <td>5e9dc2a8ae8a3bcfbdb7dec3</td>\n",
       "      <td>http://tribunalsupremo.organojudicial.gob.bo/A...</td>\n",
       "      <td>\\n  SALA PLENA\\n\\nSENTENCIA:            \\r\\n  ...</td>\n",
       "    </tr>\n",
       "  </tbody>\n",
       "</table>\n",
       "</div>"
      ],
      "text/plain": [
       "                        _id  \\\n",
       "0  5e9dc2a8ae8a3bcfbdb7debf   \n",
       "1  5e9dc2a8ae8a3bcfbdb7dec0   \n",
       "2  5e9dc2a8ae8a3bcfbdb7dec1   \n",
       "3  5e9dc2a8ae8a3bcfbdb7dec2   \n",
       "4  5e9dc2a8ae8a3bcfbdb7dec3   \n",
       "\n",
       "                                                 url  \\\n",
       "0  http://tribunalsupremo.organojudicial.gob.bo/A...   \n",
       "1  http://tribunalsupremo.organojudicial.gob.bo/A...   \n",
       "2  http://tribunalsupremo.organojudicial.gob.bo/A...   \n",
       "3  http://tribunalsupremo.organojudicial.gob.bo/A...   \n",
       "4  http://tribunalsupremo.organojudicial.gob.bo/A...   \n",
       "\n",
       "                                           sentencia  \n",
       "0  \\n  SALA \\r\\n  PLENA\\n \\nAUTO \\r\\n  SUPREMO: 1...  \n",
       "1  \\n  SALA PLENA\\n\\nSENTENCIA:            \\r\\n  ...  \n",
       "2  \\n  SALA PLENA\\n\\nSENTENCIA:            \\r\\n  ...  \n",
       "3  \\n  SALA PLENA\\n\\nSENTENCIA:            \\r\\n  ...  \n",
       "4  \\n  SALA PLENA\\n\\nSENTENCIA:            \\r\\n  ...  "
      ]
     },
     "execution_count": 4,
     "metadata": {},
     "output_type": "execute_result"
    }
   ],
   "source": [
    "data = sentenceCollection.find()\n",
    "df = pd.DataFrame(list(data))\n",
    "df.head()"
   ]
  },
  {
   "cell_type": "code",
   "execution_count": 5,
   "metadata": {},
   "outputs": [],
   "source": [
    "paradaEspanol=nltk.corpus.stopwords.words('spanish')\n",
    "extraStopWords = [\"''\",\"``\",'en','el','que','la']\n",
    "StopWords = paradaEspanol+ list(string.punctuation)+extraStopWords\n"
   ]
  },
  {
   "cell_type": "code",
   "execution_count": 6,
   "metadata": {},
   "outputs": [],
   "source": [
    "docs=df['sentencia'].tolist()"
   ]
  },
  {
   "cell_type": "code",
   "execution_count": 62,
   "metadata": {},
   "outputs": [],
   "source": [
    "cv=CountVectorizer(max_df=0.85,stop_words=StopWords,max_features=10000)\n",
    "word_count_vector=cv.fit_transform(docs)"
   ]
  },
  {
   "cell_type": "code",
   "execution_count": 65,
   "metadata": {},
   "outputs": [
    {
     "data": {
      "text/plain": [
       "TfidfTransformer(norm='l2', smooth_idf=True, sublinear_tf=False, use_idf=True)"
      ]
     },
     "execution_count": 65,
     "metadata": {},
     "output_type": "execute_result"
    }
   ],
   "source": [
    "tfidf_transformer=TfidfTransformer(smooth_idf=True,use_idf=True)\n",
    "tfidf_transformer.fit(word_count_vector)"
   ]
  },
  {
   "cell_type": "code",
   "execution_count": 66,
   "metadata": {},
   "outputs": [],
   "source": [
    "def sort_coo(coo_matrix):\n",
    "    tuples = zip(coo_matrix.col, coo_matrix.data)\n",
    "    return sorted(tuples, key=lambda x: (x[1], x[0]), reverse=True)"
   ]
  },
  {
   "cell_type": "code",
   "execution_count": 67,
   "metadata": {},
   "outputs": [],
   "source": [
    "def extract_topn_from_vector(feature_names, sorted_items, topn=10):\n",
    "    \n",
    "    #use only topn items from vector\n",
    "    sorted_items = sorted_items[:topn]\n",
    "\n",
    "    score_vals = []\n",
    "    feature_vals = []\n",
    "\n",
    "    for idx, score in sorted_items:\n",
    "        fname = feature_names[idx]\n",
    "        \n",
    "        #keep track of feature name and its corresponding score\n",
    "        score_vals.append(round(score, 3))\n",
    "        feature_vals.append(feature_names[idx])\n",
    "\n",
    "    #create a tuples of feature,score\n",
    "    #results = zip(feature_vals,score_vals)\n",
    "    results= {}\n",
    "    for idx in range(len(feature_vals)):\n",
    "        results[feature_vals[idx]]=score_vals[idx]\n",
    "    \n",
    "    return results"
   ]
  },
  {
   "cell_type": "code",
   "execution_count": 74,
   "metadata": {},
   "outputs": [],
   "source": [
    "def get_keywords(idx):\n",
    "\n",
    "    #generate tf-idf for the given document\n",
    "    tf_idf_vector=tfidf_transformer.transform(cv.transform([docs[idx]]))\n",
    "\n",
    "    #sort the tf-idf vectors by descending order of scores\n",
    "    sorted_items=sort_coo(tf_idf_vector.tocoo())\n",
    "\n",
    "    #extract only the top n; n here is 10\n",
    "    keywords=extract_topn_from_vector(feature_names,sorted_items,10)\n",
    "    \n",
    "    return keywords\n",
    "\n",
    "def print_results(idx,keywords):\n",
    "    for k in keywords:\n",
    "        print(k,keywords[k])"
   ]
  },
  {
   "cell_type": "code",
   "execution_count": 75,
   "metadata": {},
   "outputs": [],
   "source": [
    "keyWordCollection = sentenceDB[\"Keywords\"]"
   ]
  },
  {
   "cell_type": "code",
   "execution_count": 88,
   "metadata": {},
   "outputs": [],
   "source": [
    "for idx,doc in enumerate(docs):\n",
    "    mydict = { \"_id\": df['_id'][idx], \"keyWords\": get_keywords(idx) }\n",
    "    x = keyWordCollection.insert_one(mydict)"
   ]
  },
  {
   "cell_type": "code",
   "execution_count": null,
   "metadata": {},
   "outputs": [],
   "source": []
  }
 ],
 "metadata": {
  "kernelspec": {
   "display_name": "Python 3",
   "language": "python",
   "name": "python3"
  },
  "language_info": {
   "codemirror_mode": {
    "name": "ipython",
    "version": 3
   },
   "file_extension": ".py",
   "mimetype": "text/x-python",
   "name": "python",
   "nbconvert_exporter": "python",
   "pygments_lexer": "ipython3",
   "version": "3.7.4"
  }
 },
 "nbformat": 4,
 "nbformat_minor": 2
}
