{
 "cells": [
  {
   "cell_type": "code",
   "execution_count": 215,
   "metadata": {},
   "outputs": [],
   "source": [
    "import pymongo\n",
    "import pandas as pd"
   ]
  },
  {
   "cell_type": "code",
   "execution_count": 216,
   "metadata": {},
   "outputs": [],
   "source": [
    "client = pymongo.MongoClient(\"mongodb://localhost:27017/\")\n",
    "sentenceDB  = client[\"Sentencias\"]\n",
    "wordCollection = sentenceDB[\"WordTokens\"]\n",
    "sentenceCollection = sentenceDB[\"oracionTokens\"]\n",
    "articulosCollection = sentenceDB[\"articulos\"]\n"
   ]
  },
  {
   "cell_type": "code",
   "execution_count": 224,
   "metadata": {},
   "outputs": [],
   "source": [
    "codigos = [\"seguridad\",\"ctb\",\"cc\",\"cp\",\"penal\",\"civil\",\"constitución\",\"niño\",\"familia\",\"comercio\",\"tributario\",\"trabajo\",\"minería\",\"tránsito\"]\n"
   ]
  },
  {
   "cell_type": "code",
   "execution_count": 218,
   "metadata": {},
   "outputs": [],
   "source": [
    "text = sentenceCollection.find_one()\n",
    "sentenceList = text['tokenList']\n",
    "text = wordCollection.find_one()\n",
    "wordList = text['wordTokenList']\n",
    "from bson.objectid import ObjectId\n",
    "\n"
   ]
  },
  {
   "cell_type": "code",
   "execution_count": 219,
   "metadata": {},
   "outputs": [],
   "source": [
    "\n",
    "def getCodigo(textList):\n",
    "    codigo=\"-\"\n",
    "    for word in textList:\n",
    "        if word in codigos:\n",
    "            codigo = word\n",
    "    return codigo"
   ]
  },
  {
   "cell_type": "code",
   "execution_count": 220,
   "metadata": {},
   "outputs": [],
   "source": [
    "def getMultipleArts(textList): \n",
    "    tuplas=[]\n",
    "    for idx,word in enumerate(textList):\n",
    "        if word.isdigit():\n",
    "            subArray = textList[idx:-1]\n",
    "            tuplas.append((word,getCodigo(subArray)))\n",
    "    return tuplas\n",
    "            "
   ]
  },
  {
   "cell_type": "code",
   "execution_count": 221,
   "metadata": {},
   "outputs": [],
   "source": [
    "def getArticulos(text):\n",
    "    arts=[]\n",
    "    for idx,word in enumerate(text):\n",
    "        if word == \"art\" or word == \"artículo\":\n",
    "            subArray = text[idx:idx+20]\n",
    "            if \"código\" in subArray:\n",
    "                arts.append((text[idx+1],getCodigo(subArray)))\n",
    "        if word == \"artículos\" or word == \"arts\":\n",
    "            subArray = text[idx:idx+20]\n",
    "            if \"código\" in subArray:\n",
    "                arts= arts + getMultipleArts(subArray)\n",
    "    return arts  \n",
    "        \n",
    "           "
   ]
  },
  {
   "cell_type": "code",
   "execution_count": 230,
   "metadata": {},
   "outputs": [
    {
     "data": {
      "text/plain": [
       "[('780', 'civil'),\n",
       " ('354', 'civil'),\n",
       " ('4', 'civil'),\n",
       " ('6', 'civil'),\n",
       " ('620', 'civil'),\n",
       " ('778', 'civil'),\n",
       " ('781', 'civil'),\n",
       " ('76', '-'),\n",
       " ('84', '-')]"
      ]
     },
     "execution_count": 230,
     "metadata": {},
     "output_type": "execute_result"
    }
   ],
   "source": [
    "prueba = wordCollection.find_one({\"_id\":ObjectId('5e9dc2a9ae8a3bcfbdb7ded3')})\n",
    "getArticulos(prueba['wordTokenList'])"
   ]
  },
  {
   "cell_type": "code",
   "execution_count": null,
   "metadata": {},
   "outputs": [],
   "source": []
  },
  {
   "cell_type": "code",
   "execution_count": null,
   "metadata": {},
   "outputs": [],
   "source": []
  },
  {
   "cell_type": "code",
   "execution_count": null,
   "metadata": {},
   "outputs": [],
   "source": []
  }
 ],
 "metadata": {
  "kernelspec": {
   "display_name": "Python 3",
   "language": "python",
   "name": "python3"
  },
  "language_info": {
   "codemirror_mode": {
    "name": "ipython",
    "version": 3
   },
   "file_extension": ".py",
   "mimetype": "text/x-python",
   "name": "python",
   "nbconvert_exporter": "python",
   "pygments_lexer": "ipython3",
   "version": "3.7.4"
  }
 },
 "nbformat": 4,
 "nbformat_minor": 2
}
