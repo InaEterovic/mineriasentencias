{
 "cells": [
  {
   "cell_type": "code",
   "execution_count": 1,
   "metadata": {},
   "outputs": [],
   "source": [
    "import pymongo\n",
    "import nltk"
   ]
  },
  {
   "cell_type": "code",
   "execution_count": 2,
   "metadata": {},
   "outputs": [],
   "source": [
    "client = pymongo.MongoClient(\"mongodb://localhost:27017/\")\n",
    "sentenceDB  = client[\"Sentencias\"]\n",
    "sentenceCollection = sentenceDB[\"Sentencias Judiciales\"]\n",
    "tokensCollection =  sentenceDB[\"Tokens\"]"
   ]
  },
  {
   "cell_type": "code",
   "execution_count": 3,
   "metadata": {},
   "outputs": [],
   "source": [
    "def tokenizeAndClean(text):\n",
    "    cleanText= text.replace('\\r','')\n",
    "    cleanText = cleanText.replace('\\n','')\n",
    "    sentence_tokens = nltk.sent_tokenize(cleanText)\n",
    "    return sentence_tokens"
   ]
  },
  {
   "cell_type": "code",
   "execution_count": 41,
   "metadata": {},
   "outputs": [
    {
     "data": {
      "text/plain": [
       "<pymongo.results.InsertOneResult at 0x1d8dc7a6a48>"
      ]
     },
     "execution_count": 41,
     "metadata": {},
     "output_type": "execute_result"
    }
   ],
   "source": [
    "x = sentenceCollection.find_one()\n",
    "text = x['sentencia']\n",
    "sentence_tokens = tokenizeAndClean(text)\n",
    "dictionary = {\"_id\":x['_id'],\"tokenList\":sentence_tokens}\n",
    "tokensCollection.insert_one(dictionary)"
   ]
  },
  {
   "cell_type": "code",
   "execution_count": 7,
   "metadata": {},
   "outputs": [],
   "source": [
    "sentenceDocs =  sentenceCollection.find()\n",
    "\n",
    "for doc in sentenceDocs:\n",
    "    text = doc['sentencia']\n",
    "    sentence_tokens = tokenizeAndClean(text)\n",
    "    dictionary = {\"_id\":doc['_id'],\"tokenList\":sentence_tokens}\n",
    "    tokensCollection.insert_one(dictionary)"
   ]
  },
  {
   "cell_type": "code",
   "execution_count": null,
   "metadata": {},
   "outputs": [],
   "source": []
  }
 ],
 "metadata": {
  "kernelspec": {
   "display_name": "Python 3",
   "language": "python",
   "name": "python3"
  },
  "language_info": {
   "codemirror_mode": {
    "name": "ipython",
    "version": 3
   },
   "file_extension": ".py",
   "mimetype": "text/x-python",
   "name": "python",
   "nbconvert_exporter": "python",
   "pygments_lexer": "ipython3",
   "version": "3.7.4"
  }
 },
 "nbformat": 4,
 "nbformat_minor": 2
}
