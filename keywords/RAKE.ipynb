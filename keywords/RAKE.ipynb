{
 "cells": [
  {
   "cell_type": "code",
   "execution_count": 2,
   "metadata": {},
   "outputs": [],
   "source": [
    "import pymongo\n",
    "from multi_rake import Rake\n",
    "import pandas as pd\n",
    "import nltk\n",
    "from nltk.corpus import stopwords"
   ]
  },
  {
   "cell_type": "code",
   "execution_count": 3,
   "metadata": {},
   "outputs": [],
   "source": [
    "client = pymongo.MongoClient(\"mongodb://localhost:27017/\")\n",
    "sentenceDB  = client[\"Sentencias\"]\n",
    "wordCollection = sentenceDB[\"WordTokens\"]\n",
    "sentenceCollection = sentenceDB[\"Sentencias Judiciales\"]\n",
    "rakeKeywordCollection = sentenceDB[\"rakeKeywords\"]"
   ]
  },
  {
   "cell_type": "code",
   "execution_count": 4,
   "metadata": {},
   "outputs": [],
   "source": [
    "palabras_comunes_sentencias= ['sentencia','corte','artículo','abogado','ministerio','magistrado','casación','art','juicio','cp','cpp','tribunal','judicial','tribunales','legal','legales','constitución','auto','juez','justicia','i','ii','iii','sala','penal','nº']\n"
   ]
  },
  {
   "cell_type": "code",
   "execution_count": 5,
   "metadata": {},
   "outputs": [],
   "source": [
    "docs = sentenceCollection.find()\n",
    "stopWordsSentences=stopwords.words('spanish')+palabras_comunes_sentencias+['sido','misma']\n"
   ]
  },
  {
   "cell_type": "code",
   "execution_count": 6,
   "metadata": {},
   "outputs": [],
   "source": [
    "rake = Rake(language_code='es',max_words=2, stopwords=stopWordsSentences)\n",
    "for doc in docs:\n",
    "    text = doc['sentencia']\n",
    "    tuple_keywords_score=rake.apply(text)\n",
    "    keywords, scores= zip(*tuple_keywords_score)\n",
    "    keyword_list = list(keywords)\n",
    "    myDict ={\"_id\":doc[\"_id\"],\"keywords\":keyword_list[0:21]}\n",
    "    x = rakeKeywordCollection.insert_one(myDict)"
   ]
  },
  {
   "cell_type": "code",
   "execution_count": null,
   "metadata": {},
   "outputs": [],
   "source": []
  }
 ],
 "metadata": {
  "kernelspec": {
   "display_name": "Python 3",
   "language": "python",
   "name": "python3"
  },
  "language_info": {
   "codemirror_mode": {
    "name": "ipython",
    "version": 3
   },
   "file_extension": ".py",
   "mimetype": "text/x-python",
   "name": "python",
   "nbconvert_exporter": "python",
   "pygments_lexer": "ipython3",
   "version": "3.7.4"
  }
 },
 "nbformat": 4,
 "nbformat_minor": 2
}
