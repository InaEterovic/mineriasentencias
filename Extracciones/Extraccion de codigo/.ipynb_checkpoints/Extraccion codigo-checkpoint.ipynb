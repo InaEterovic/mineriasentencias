{
 "cells": [
  {
   "cell_type": "code",
   "execution_count": 12,
   "metadata": {},
   "outputs": [],
   "source": [
    "import re\n",
    "import pymongo"
   ]
  },
  {
   "cell_type": "code",
   "execution_count": 13,
   "metadata": {},
   "outputs": [],
   "source": [
    "client = pymongo.MongoClient(\"mongodb://localhost:27017/\")\n",
    "sentencesDB  = client[\"Sentencias\"]\n",
    "sentenceCollection = sentencesDB[\"Sentencias Judiciales\"]"
   ]
  },
  {
   "cell_type": "code",
   "execution_count": 14,
   "metadata": {},
   "outputs": [],
   "source": [
    "patron = re.compile('\\d{1,5}/\\d{2,4}')\n",
    "#patron = re.compile('N°  \\d{1,4}')\n"
   ]
  },
  {
   "cell_type": "code",
   "execution_count": 15,
   "metadata": {},
   "outputs": [],
   "source": [
    "def ExtraerCodigo(sentencia):\n",
    "    codigo = ''\n",
    "    resultado = patron.search(sentencia)\n",
    "    if resultado:\n",
    "        codigo = resultado.group(0)\n",
    "   \n",
    "    return codigo"
   ]
  },
  {
   "cell_type": "code",
   "execution_count": 16,
   "metadata": {},
   "outputs": [],
   "source": [
    "docs = sentenceCollection.find()\n",
    "cont=0\n",
    "for doc in docs:\n",
    "    codigo = ExtraerCodigo(doc['sentencia'])\n",
    "    if doc['Cod'] == \"\":\n",
    "    myquery = { \"_id\": doc['_id'] }\n",
    "    sentenceCollection.update_one(myquery, {\"$set\": { \"Cod\": codigo }})"
   ]
  },
  {
   "cell_type": "code",
   "execution_count": null,
   "metadata": {},
   "outputs": [],
   "source": []
  }
 ],
 "metadata": {
  "kernelspec": {
   "display_name": "Python 3",
   "language": "python",
   "name": "python3"
  },
  "language_info": {
   "codemirror_mode": {
    "name": "ipython",
    "version": 3
   },
   "file_extension": ".py",
   "mimetype": "text/x-python",
   "name": "python",
   "nbconvert_exporter": "python",
   "pygments_lexer": "ipython3",
   "version": "3.7.4"
  }
 },
 "nbformat": 4,
 "nbformat_minor": 2
}
