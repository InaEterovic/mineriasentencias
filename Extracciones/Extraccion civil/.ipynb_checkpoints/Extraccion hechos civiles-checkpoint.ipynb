{
 "cells": [
  {
   "cell_type": "code",
   "execution_count": 1,
   "metadata": {},
   "outputs": [],
   "source": [
    "import re"
   ]
  },
  {
   "cell_type": "code",
   "execution_count": 2,
   "metadata": {},
   "outputs": [],
   "source": [
    "import pymongo\n",
    "client = pymongo.MongoClient(\"mongodb://localhost:27017/\")\n",
    "sentencesDB  = client[\"Sentencias\"]\n",
    "documentCollection = sentencesDB[\"Sentencias Judiciales minuscula\"]\n",
    "sentenceCollection = sentencesDB[\"Sentencias Judiciales\"]"
   ]
  },
  {
   "cell_type": "code",
   "execution_count": 3,
   "metadata": {},
   "outputs": [],
   "source": [
    "#recuperar lista casos\n",
    "with open(\"civiles.txt\", encoding='utf-8-sig') as file:\n",
    "    lista_civil = [l.rstrip(\"\\n\") for l in file]"
   ]
  },
  {
   "cell_type": "code",
   "execution_count": 4,
   "metadata": {},
   "outputs": [],
   "source": [
    "def extraerHechosSentencia(sentencia):\n",
    "    hechos = []\n",
    "    for hecho in lista_civil:\n",
    "        if re.search(hecho, sentencia):\n",
    "            hechos.append(hecho)\n",
    "    return hechos"
   ]
  },
  {
   "cell_type": "code",
   "execution_count": 6,
   "metadata": {},
   "outputs": [],
   "source": [
    "def agregarHechos(docs):\n",
    "    for doc in docs:\n",
    "        sentencia = doc['sentencia']\n",
    "        query = {'_id': doc['_id']} \n",
    "        sentencia2= sentenceCollection.find_one(query)\n",
    "        if sentencia2['hechos']==[]:\n",
    "            nuevo_valor = { \"$set\": { \"hechos\": extraerHechosSentencia(sentencia)}}\n",
    "            sentenceCollection.update_one(query,nuevo_valor)"
   ]
  },
  {
   "cell_type": "code",
   "execution_count": 7,
   "metadata": {},
   "outputs": [],
   "source": [
    "docs = documentCollection.find()\n",
    "agregarHechos(docs)"
   ]
  },
  {
   "cell_type": "code",
   "execution_count": null,
   "metadata": {},
   "outputs": [],
   "source": []
  }
 ],
 "metadata": {
  "kernelspec": {
   "display_name": "Python 3",
   "language": "python",
   "name": "python3"
  },
  "language_info": {
   "codemirror_mode": {
    "name": "ipython",
    "version": 3
   },
   "file_extension": ".py",
   "mimetype": "text/x-python",
   "name": "python",
   "nbconvert_exporter": "python",
   "pygments_lexer": "ipython3",
   "version": "3.7.4"
  }
 },
 "nbformat": 4,
 "nbformat_minor": 2
}
