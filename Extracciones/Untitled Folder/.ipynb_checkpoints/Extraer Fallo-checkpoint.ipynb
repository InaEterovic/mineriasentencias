{
 "cells": [
  {
   "cell_type": "code",
   "execution_count": 1,
   "metadata": {},
   "outputs": [],
   "source": [
    "import re\n",
    "import pymongo"
   ]
  },
  {
   "cell_type": "code",
   "execution_count": 2,
   "metadata": {},
   "outputs": [],
   "source": [
    "client = pymongo.MongoClient(\"mongodb://localhost:27017/\")\n",
    "sentencesDB  = client[\"Sentencias\"]\n",
    "documentCollection = sentencesDB[\"Sentencias Judiciales minuscula\"]\n",
    "sentenceCollection = sentencesDB[\"Sentencias Judiciales\"]"
   ]
  },
  {
   "cell_type": "code",
   "execution_count": 3,
   "metadata": {},
   "outputs": [],
   "source": [
    "def extraerFalloSentencia(sentencia):\n",
    "    fallo = ''\n",
    "    if  re.search('POR', sentencia) and re.search('TANTO',sentencia): \n",
    "        fallo = 'POR TANTO' + sentencia.split(\"TANTO\",1)[1] \n",
    "    return fallo"
   ]
  },
  {
   "cell_type": "code",
   "execution_count": 6,
   "metadata": {},
   "outputs": [],
   "source": [
    "docs = sentenceCollection.find()\n",
    "for doc in docs:\n",
    "    fallo = extraerFalloSentencia(doc['sentencia'])\n",
    "    myquery = { \"_id\": doc['_id'] }\n",
    "    sentenceCollection.update_one(myquery, {\"$set\": { \"Fallo\": fallo }})\n"
   ]
  },
  {
   "cell_type": "code",
   "execution_count": null,
   "metadata": {},
   "outputs": [],
   "source": []
  }
 ],
 "metadata": {
  "kernelspec": {
   "display_name": "Python 3",
   "language": "python",
   "name": "python3"
  },
  "language_info": {
   "codemirror_mode": {
    "name": "ipython",
    "version": 3
   },
   "file_extension": ".py",
   "mimetype": "text/x-python",
   "name": "python",
   "nbconvert_exporter": "python",
   "pygments_lexer": "ipython3",
   "version": "3.7.4"
  }
 },
 "nbformat": 4,
 "nbformat_minor": 2
}
