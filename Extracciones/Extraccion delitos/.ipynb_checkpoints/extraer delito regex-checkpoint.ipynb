{
 "cells": [
  {
   "cell_type": "code",
   "execution_count": 1,
   "metadata": {},
   "outputs": [],
   "source": [
    "import re"
   ]
  },
  {
   "cell_type": "code",
   "execution_count": 2,
   "metadata": {},
   "outputs": [],
   "source": [
    "import pymongo\n",
    "client = pymongo.MongoClient(\"mongodb://localhost:27017/\")\n",
    "sentencesDB  = client[\"Sentencias\"]\n",
    "documentCollection = sentencesDB[\"Sentencias Judiciales minuscula\"]\n",
    "sentenceCollection = sentencesDB[\"Sentencias Judiciales\"]\n"
   ]
  },
  {
   "cell_type": "code",
   "execution_count": 3,
   "metadata": {},
   "outputs": [],
   "source": [
    "#recuperar lista delitos\n",
    "with open(\"delitos.txt\", encoding=\"utf-8\") as file:\n",
    "    lista_delitos = [l.rstrip(\"\\n\") for l in file]"
   ]
  },
  {
   "cell_type": "code",
   "execution_count": 4,
   "metadata": {},
   "outputs": [],
   "source": [
    "def extraerDelitosSentencia(sentencia):\n",
    "    delitos = []\n",
    "    for delito in lista_delitos:\n",
    "        if re.search(delito, sentencia):\n",
    "            delitos.append(delito)\n",
    "    return delitos"
   ]
  },
  {
   "cell_type": "code",
   "execution_count": 5,
   "metadata": {},
   "outputs": [],
   "source": [
    "def agregarDelitos(docs):\n",
    "    for doc in docs:\n",
    "        sentencia = doc['sentencia']\n",
    "        query = {'_id': doc['_id']} \n",
    "        #nuevo_valor = { \"$set\": { \"delitos\": extraerDelitosSentencia(sentencia)}}\n",
    "        nuevo_valor = { \"$set\": { \"delitos\": []}}\n",
    "        sentenceCollection.update_one(query,nuevo_valor)\n",
    "        \n",
    "    "
   ]
  },
  {
   "cell_type": "code",
   "execution_count": 6,
   "metadata": {},
   "outputs": [],
   "source": [
    "docs = documentCollection.find()\n",
    "agregarDelitos(docs)"
   ]
  },
  {
   "cell_type": "code",
   "execution_count": null,
   "metadata": {},
   "outputs": [],
   "source": []
  }
 ],
 "metadata": {
  "kernelspec": {
   "display_name": "Python 3",
   "language": "python",
   "name": "python3"
  },
  "language_info": {
   "codemirror_mode": {
    "name": "ipython",
    "version": 3
   },
   "file_extension": ".py",
   "mimetype": "text/x-python",
   "name": "python",
   "nbconvert_exporter": "python",
   "pygments_lexer": "ipython3",
   "version": "3.7.4"
  }
 },
 "nbformat": 4,
 "nbformat_minor": 2
}
