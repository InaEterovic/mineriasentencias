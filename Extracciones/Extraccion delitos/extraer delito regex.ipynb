{
 "cells": [
  {
   "cell_type": "code",
   "execution_count": 7,
   "metadata": {},
   "outputs": [],
   "source": [
    "import re"
   ]
  },
  {
   "cell_type": "code",
   "execution_count": 8,
   "metadata": {},
   "outputs": [],
   "source": [
    "import pymongo\n",
    "client = pymongo.MongoClient(\"mongodb://localhost:27017/\")\n",
    "sentencesDB  = client[\"Sentencias\"]\n",
    "documentCollection = sentencesDB[\"Sentencias Judiciales minuscula\"]\n",
    "sentenceCollection = sentencesDB[\"Sentencias Judiciales\"]\n"
   ]
  },
  {
   "cell_type": "code",
   "execution_count": 9,
   "metadata": {},
   "outputs": [],
   "source": [
    "#recuperar lista delitos\n",
    "with open(\"delitos.txt\", encoding=\"utf-8\") as file:\n",
    "    lista_delitos = [l.rstrip(\"\\n\") for l in file]"
   ]
  },
  {
   "cell_type": "code",
   "execution_count": 10,
   "metadata": {},
   "outputs": [],
   "source": [
    "def extraerDelitosSentencia(sentencia):\n",
    "    delitos = []\n",
    "    for delito in lista_delitos:\n",
    "        if delito == 'violación' and re.search('308', sentencia)and re.search(delito, sentencia):\n",
    "            delitos.append(delito)\n",
    "        if delito != 'violación' and re.search(delito, sentencia):\n",
    "            delitos.append(delito)\n",
    "    return delitos"
   ]
  },
  {
   "cell_type": "code",
   "execution_count": 11,
   "metadata": {},
   "outputs": [],
   "source": [
    "def agregarDelitos(docs):\n",
    "    for doc in docs:\n",
    "        sentencia = doc['sentencia']\n",
    "        query = {'_id': doc['_id']} \n",
    "        nuevo_valor = { \"$set\": { \"delitos\": extraerDelitosSentencia(sentencia)}}\n",
    "        sentenceCollection.update_one(query,nuevo_valor)\n",
    "    return docs\n",
    "        \n",
    "    "
   ]
  },
  {
   "cell_type": "code",
   "execution_count": 12,
   "metadata": {},
   "outputs": [
    {
     "data": {
      "text/plain": [
       "<pymongo.cursor.Cursor at 0x169bf97f6c8>"
      ]
     },
     "execution_count": 12,
     "metadata": {},
     "output_type": "execute_result"
    }
   ],
   "source": [
    "docs = documentCollection.find()\n",
    "agregarDelitos(docs)"
   ]
  },
  {
   "cell_type": "code",
   "execution_count": null,
   "metadata": {},
   "outputs": [],
   "source": []
  }
 ],
 "metadata": {
  "kernelspec": {
   "display_name": "Python 3",
   "language": "python",
   "name": "python3"
  },
  "language_info": {
   "codemirror_mode": {
    "name": "ipython",
    "version": 3
   },
   "file_extension": ".py",
   "mimetype": "text/x-python",
   "name": "python",
   "nbconvert_exporter": "python",
   "pygments_lexer": "ipython3",
   "version": "3.7.4"
  }
 },
 "nbformat": 4,
 "nbformat_minor": 2
}
