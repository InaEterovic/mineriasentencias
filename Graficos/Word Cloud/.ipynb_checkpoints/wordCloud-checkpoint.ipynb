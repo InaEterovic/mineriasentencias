{
 "cells": [
  {
   "cell_type": "code",
   "execution_count": 1,
   "metadata": {},
   "outputs": [],
   "source": [
    "%matplotlib inline"
   ]
  },
  {
   "cell_type": "code",
   "execution_count": 2,
   "metadata": {},
   "outputs": [],
   "source": [
    "from wordcloud import WordCloud, STOPWORDS \n",
    "import matplotlib.pyplot as plt \n",
    "import pandas as pd \n",
    "import pymongo"
   ]
  },
  {
   "cell_type": "code",
   "execution_count": 3,
   "metadata": {},
   "outputs": [],
   "source": [
    "client = pymongo.MongoClient(\"mongodb://localhost:27017/\")\n",
    "sentenceDB  = client[\"Sentencias\"]\n",
    "sentenceCollection = sentenceDB[\"Sentencias Judiciales\"]\n",
    "wordCollection = sentenceDB[\"WordTokens\"]"
   ]
  },
  {
   "cell_type": "code",
   "execution_count": 4,
   "metadata": {},
   "outputs": [],
   "source": [
    "data = wordCollection.find()\n",
    "df = pd.DataFrame(list(data))"
   ]
  },
  {
   "cell_type": "code",
   "execution_count": 5,
   "metadata": {},
   "outputs": [],
   "source": [
    "for index, row in df.iterrows():\n",
    "    df[\"_id\"][index] = str(df[\"_id\"][index])"
   ]
  },
  {
   "cell_type": "code",
   "execution_count": 8,
   "metadata": {},
   "outputs": [
    {
     "data": {
      "text/html": [
       "<div>\n",
       "<style scoped>\n",
       "    .dataframe tbody tr th:only-of-type {\n",
       "        vertical-align: middle;\n",
       "    }\n",
       "\n",
       "    .dataframe tbody tr th {\n",
       "        vertical-align: top;\n",
       "    }\n",
       "\n",
       "    .dataframe thead th {\n",
       "        text-align: right;\n",
       "    }\n",
       "</style>\n",
       "<table border=\"1\" class=\"dataframe\">\n",
       "  <thead>\n",
       "    <tr style=\"text-align: right;\">\n",
       "      <th></th>\n",
       "      <th>_id</th>\n",
       "      <th>wordTokenList</th>\n",
       "    </tr>\n",
       "  </thead>\n",
       "  <tbody>\n",
       "    <tr>\n",
       "      <td>36919</td>\n",
       "      <td>5e9dc654ae8a3bcfbdb87067</td>\n",
       "      <td>[exp, 41/2018, homologación, sentencia.-, ana,...</td>\n",
       "    </tr>\n",
       "    <tr>\n",
       "      <td>36920</td>\n",
       "      <td>5e9dc654ae8a3bcfbdb87068</td>\n",
       "      <td>[exp, 26/2018, homologación, sentencia.-, lili...</td>\n",
       "    </tr>\n",
       "    <tr>\n",
       "      <td>36921</td>\n",
       "      <td>5e9dc654ae8a3bcfbdb87069</td>\n",
       "      <td>[exp, 47/2017, homologación, sentencia.-, will...</td>\n",
       "    </tr>\n",
       "    <tr>\n",
       "      <td>36922</td>\n",
       "      <td>5e9dc654ae8a3bcfbdb8706a</td>\n",
       "      <td>[exp, 02/2019, detención, preventiva, fines, e...</td>\n",
       "    </tr>\n",
       "    <tr>\n",
       "      <td>36923</td>\n",
       "      <td>5e9dc654ae8a3bcfbdb8706b</td>\n",
       "      <td>[exp, 01/2019, detención, preventiva, fines, e...</td>\n",
       "    </tr>\n",
       "  </tbody>\n",
       "</table>\n",
       "</div>"
      ],
      "text/plain": [
       "                            _id  \\\n",
       "36919  5e9dc654ae8a3bcfbdb87067   \n",
       "36920  5e9dc654ae8a3bcfbdb87068   \n",
       "36921  5e9dc654ae8a3bcfbdb87069   \n",
       "36922  5e9dc654ae8a3bcfbdb8706a   \n",
       "36923  5e9dc654ae8a3bcfbdb8706b   \n",
       "\n",
       "                                           wordTokenList  \n",
       "36919  [exp, 41/2018, homologación, sentencia.-, ana,...  \n",
       "36920  [exp, 26/2018, homologación, sentencia.-, lili...  \n",
       "36921  [exp, 47/2017, homologación, sentencia.-, will...  \n",
       "36922  [exp, 02/2019, detención, preventiva, fines, e...  \n",
       "36923  [exp, 01/2019, detención, preventiva, fines, e...  "
      ]
     },
     "execution_count": 8,
     "metadata": {},
     "output_type": "execute_result"
    }
   ],
   "source": [
    "df.tail()"
   ]
  },
  {
   "cell_type": "code",
   "execution_count": null,
   "metadata": {},
   "outputs": [],
   "source": [
    "for i in range(500,1000):\n",
    "    comment_words= \" \".join(df['wordTokenList'][i]) \n",
    "    wordcloud = WordCloud(width = 800, height = 800, \n",
    "                background_color ='white',  \n",
    "                min_font_size = 12).generate(comment_words) \n",
    "    name = df['_id'][i]\n",
    "    image_name =name +\".png\"\n",
    "    wordcloud.to_file(\"img/\"+image_name)"
   ]
  },
  {
   "cell_type": "code",
   "execution_count": null,
   "metadata": {},
   "outputs": [],
   "source": []
  },
  {
   "cell_type": "code",
   "execution_count": null,
   "metadata": {},
   "outputs": [],
   "source": []
  }
 ],
 "metadata": {
  "kernelspec": {
   "display_name": "Python 3",
   "language": "python",
   "name": "python3"
  },
  "language_info": {
   "codemirror_mode": {
    "name": "ipython",
    "version": 3
   },
   "file_extension": ".py",
   "mimetype": "text/x-python",
   "name": "python",
   "nbconvert_exporter": "python",
   "pygments_lexer": "ipython3",
   "version": "3.7.4"
  }
 },
 "nbformat": 4,
 "nbformat_minor": 2
}
