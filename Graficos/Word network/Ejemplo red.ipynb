{
 "cells": [
  {
   "cell_type": "code",
   "execution_count": 1,
   "metadata": {},
   "outputs": [],
   "source": [
    "api = '565d7812c2c64dbb8b314376863a39b3' # Replace with yours\n",
    "query = '+bitcoin'\n",
    "\n",
    "import requests\n",
    "url = ('http://newsapi.org/v2/everything?'\n",
    "       'q=cybersecurity&'\n",
    "       'sortBy=popularity&'\n",
    "       'apiKey=565d7812c2c64dbb8b314376863a39b3')\n",
    "response = requests.get(url)\n",
    "json = response.json()"
   ]
  },
  {
   "cell_type": "code",
   "execution_count": 2,
   "metadata": {},
   "outputs": [
    {
     "name": "stdout",
     "output_type": "stream",
     "text": [
      "<class 'list'>\n"
     ]
    }
   ],
   "source": [
    "articles = json['articles']\n",
    "\n",
    "headline = [article['title'] for article in articles]\n",
    "description = [article['description'] for article in articles]\n",
    "\n",
    "all_text = headline + description\n",
    "print(type(all_text))"
   ]
  },
  {
   "cell_type": "code",
   "execution_count": 3,
   "metadata": {},
   "outputs": [],
   "source": [
    "from sklearn.feature_extraction.text import CountVectorizer\n",
    "cv = CountVectorizer(ngram_range=(1,1), stop_words = 'english') # You can define your own parameters\n",
    "X = cv.fit_transform(all_text)"
   ]
  },
  {
   "cell_type": "code",
   "execution_count": 4,
   "metadata": {},
   "outputs": [],
   "source": [
    "Xc = (X.T * X) # This is the matrix manipulation step\n",
    "Xc.setdiag(0) # We set the diagonals to be zeroes as it's pointless to be 1"
   ]
  },
  {
   "cell_type": "code",
   "execution_count": 5,
   "metadata": {},
   "outputs": [],
   "source": [
    "import pandas as pd\n",
    "names = cv.get_feature_names() # This are the entity names (i.e. keywords)\n",
    "df = pd.DataFrame(data = Xc.toarray(), columns = names, index = names)\n",
    "df.to_csv('to gephi.csv', sep = ',')"
   ]
  },
  {
   "cell_type": "code",
   "execution_count": null,
   "metadata": {},
   "outputs": [],
   "source": []
  }
 ],
 "metadata": {
  "kernelspec": {
   "display_name": "Python 3",
   "language": "python",
   "name": "python3"
  },
  "language_info": {
   "codemirror_mode": {
    "name": "ipython",
    "version": 3
   },
   "file_extension": ".py",
   "mimetype": "text/x-python",
   "name": "python",
   "nbconvert_exporter": "python",
   "pygments_lexer": "ipython3",
   "version": "3.7.4"
  }
 },
 "nbformat": 4,
 "nbformat_minor": 2
}
