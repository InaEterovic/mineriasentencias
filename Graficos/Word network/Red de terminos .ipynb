{
 "cells": [
  {
   "cell_type": "code",
   "execution_count": 1,
   "metadata": {},
   "outputs": [],
   "source": [
    "import pymongo\n",
    "from sklearn.feature_extraction.text import CountVectorizer\n",
    "from nltk.corpus import stopwords\n",
    "import pandas as pd"
   ]
  },
  {
   "cell_type": "code",
   "execution_count": 2,
   "metadata": {},
   "outputs": [],
   "source": [
    "#configuracion mongo y conexion a db\n",
    "client = pymongo.MongoClient(\"mongodb://localhost:27017/\")\n",
    "sentencias_db = client['Sentencias']\n",
    "sentencias_coll = sentencias_db['Sentencias Judiciales']"
   ]
  },
  {
   "cell_type": "code",
   "execution_count": 3,
   "metadata": {},
   "outputs": [],
   "source": [
    "palabras_comunes_sentencias= ['sentencia','corte','artículo','abogado','ministerio','magistrado','casación','art','juicio','cp','cpp','tribunal','judicial','tribunales','legal','legales','constitución','auto','juez','justicia','i','ii','iii','sala','penal','nº']"
   ]
  },
  {
   "cell_type": "code",
   "execution_count": 4,
   "metadata": {},
   "outputs": [],
   "source": [
    "with open(\"delitos con 10 o mas menciones.txt\", encoding=\"utf-8\") as file:\n",
    "    delitos = [l.rstrip(\"\\n\") for l in file]\n"
   ]
  },
  {
   "cell_type": "code",
   "execution_count": 5,
   "metadata": {},
   "outputs": [],
   "source": [
    "def obtener_textos_delito(delito):\n",
    "    docs = sentencias_coll.find({\"delitos\": delito})\n",
    "    all_text = []\n",
    "    for doc in docs:\n",
    "        all_text.append(doc['sentencia'])\n",
    "    return all_text"
   ]
  },
  {
   "cell_type": "code",
   "execution_count": 6,
   "metadata": {},
   "outputs": [],
   "source": [
    "def almacenar_matriz_archivo(texto,delito):\n",
    "    stopWords = stopwords.words('spanish')+ palabras_comunes_sentencias\n",
    "    cv = CountVectorizer(ngram_range=(1,1), stop_words=stopWords,max_features = 150)\n",
    "    X = cv.fit_transform(texto)\n",
    "    Xc = (X.T * X)\n",
    "    Xc.setdiag(0)\n",
    "    names = cv.get_feature_names()\n",
    "    print(delito)\n",
    "    df = pd.DataFrame(data = Xc.toarray(), columns = names, index = names)\n",
    "    df.to_csv(delito+'.csv', sep = ',')"
   ]
  },
  {
   "cell_type": "code",
   "execution_count": 7,
   "metadata": {},
   "outputs": [
    {
     "name": "stdout",
     "output_type": "stream",
     "text": [
      "extradición\n",
      "traición\n",
      "revelación de secretos\n",
      "sabotaje\n",
      "sedición\n",
      "instigación pública a delinquir\n",
      "asociación delictuosa\n",
      "organización criminal\n",
      "terrorismo\n",
      "genocidio\n",
      "peculado\n",
      "malversación\n",
      "cohecho pasivo propio\n",
      "uso indebido de influencias\n",
      "resoluciones contrarias a la constitución y a las leyes\n",
      "incumplimiento de deberes\n",
      "nombramientos ilegales\n",
      "cohecho activo\n",
      "desobediencia a la autoridad\n",
      "desacato\n",
      "ejercicio indebido de profesión\n",
      "falso testimonio\n",
      "encubrimiento\n",
      "receptación\n",
      "prevaricato\n",
      "omisión de denuncia\n",
      "evasión\n",
      "falsedad material\n",
      "falsedad ideológica\n",
      "falsificación de documento privado\n",
      "supresión o destrucción de documento\n",
      "cheque en descubierto\n",
      "giro defectuoso de cheque\n",
      "incendio\n",
      "peligro de estrago\n",
      "conducción peligrosa de vehículos\n",
      "delitos contra la salud pública\n",
      "ejercicio ilegal de la medicina\n",
      "contratos lesivos al estado\n",
      "incumplimiento de contratos\n",
      "agio\n",
      "sociedades o asociaciones ficticias\n",
      "evasión de impuestos\n",
      "engaño en productos industriales\n",
      "bigamia\n",
      "homicidio\n",
      "asesinato\n",
      "parricidio\n",
      "homicidio por emoción violenta\n",
      "homicidio en riña o a consecuencia de agresión\n",
      "homicidio culposo\n",
      "omisión de socorro\n",
      "aborto\n",
      "lesiones gravísimas\n",
      "lesiones graves y leves\n",
      "lesión seguida de muerte\n",
      "lesiones culposas\n",
      "difamación\n",
      "calumnia\n",
      "propalación de ofensas\n",
      "excepción de verdad\n",
      "injuria\n",
      "privación de libertad\n",
      "amenazas\n",
      "coacción\n",
      "vejaciones y torturas\n",
      "allanamiento de domicilio o sus dependencias\n",
      "atentados contra la libertad de trabajo\n",
      "conducta culposa\n",
      "violación\n",
      "estupro\n",
      "agravación\n",
      "abuso deshonesto\n",
      "corrupción de menores\n",
      "hurto\n",
      "robo\n",
      "robo agravado\n",
      "extorsión\n",
      "secuestro\n",
      "estafa\n",
      "abuso de firma en blanco\n",
      "estelionato\n",
      "engaño a personas incapaces\n",
      "quiebra\n",
      "alzamiento de bienes o falencia civil\n",
      "apropiación indebida\n",
      "abuso de confianza\n",
      "abigeato\n",
      "usurpación\n",
      "despojo\n",
      "alteración de linderos\n",
      "perturbación de posesión\n",
      "usurpación agravada\n",
      "daño simple\n",
      "daño calificado\n",
      "usura\n",
      "abuso sexual\n"
     ]
    }
   ],
   "source": [
    "for delito in delitos:\n",
    "    texto_delito = obtener_textos_delito(delito)\n",
    "    almacenar_matriz_archivo(texto_delito,delito)"
   ]
  },
  {
   "cell_type": "code",
   "execution_count": null,
   "metadata": {},
   "outputs": [],
   "source": []
  }
 ],
 "metadata": {
  "kernelspec": {
   "display_name": "Python 3",
   "language": "python",
   "name": "python3"
  },
  "language_info": {
   "codemirror_mode": {
    "name": "ipython",
    "version": 3
   },
   "file_extension": ".py",
   "mimetype": "text/x-python",
   "name": "python",
   "nbconvert_exporter": "python",
   "pygments_lexer": "ipython3",
   "version": "3.7.4"
  }
 },
 "nbformat": 4,
 "nbformat_minor": 2
}
