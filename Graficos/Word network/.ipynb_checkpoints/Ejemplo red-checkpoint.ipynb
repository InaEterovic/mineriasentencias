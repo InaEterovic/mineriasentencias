{
 "cells": [
  {
   "cell_type": "code",
   "execution_count": 22,
   "metadata": {},
   "outputs": [],
   "source": [
    "api = '565d7812c2c64dbb8b314376863a39b3' # Replace with yours\n",
    "query = '+bitcoin'\n",
    "\n",
    "import requests\n",
    "url = ('http://newsapi.org/v2/everything?'\n",
    "       'q=cybersecurity&'\n",
    "       'sources=the-verge&'\n",
    "       'sortBy=popularity&'\n",
    "       'apiKey=565d7812c2c64dbb8b314376863a39b3')\n",
    "response = requests.get(url)\n",
    "json = response.json()"
   ]
  },
  {
   "cell_type": "code",
   "execution_count": null,
   "metadata": {},
   "outputs": [],
   "source": []
  },
  {
   "cell_type": "code",
   "execution_count": null,
   "metadata": {},
   "outputs": [],
   "source": []
  }
 ],
 "metadata": {
  "kernelspec": {
   "display_name": "Python 3",
   "language": "python",
   "name": "python3"
  },
  "language_info": {
   "codemirror_mode": {
    "name": "ipython",
    "version": 3
   },
   "file_extension": ".py",
   "mimetype": "text/x-python",
   "name": "python",
   "nbconvert_exporter": "python",
   "pygments_lexer": "ipython3",
   "version": "3.7.4"
  }
 },
 "nbformat": 4,
 "nbformat_minor": 2
}
