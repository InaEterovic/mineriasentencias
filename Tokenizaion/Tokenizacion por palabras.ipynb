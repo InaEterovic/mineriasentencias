{
 "cells": [
  {
   "cell_type": "code",
   "execution_count": 24,
   "metadata": {},
   "outputs": [],
   "source": [
    "import pymongo\n",
    "import nltk\n",
    "import string"
   ]
  },
  {
   "cell_type": "code",
   "execution_count": 25,
   "metadata": {},
   "outputs": [],
   "source": [
    "client = pymongo.MongoClient(\"mongodb://localhost:27017/\")\n",
    "sentenceDB  = client[\"Sentencias\"]\n",
    "sentenceCollection = sentenceDB[\"Sentencias Judiciales\"]\n",
    "tokensCollection =  sentenceDB[\"WordTokens\"]"
   ]
  },
  {
   "cell_type": "code",
   "execution_count": 26,
   "metadata": {},
   "outputs": [],
   "source": [
    "def tokenizeByWord(text):\n",
    "    word_tokens = nltk.word_tokenize(text)\n",
    "    word_tokens = [word.lower() for word in word_tokens]\n",
    "    return word_tokens"
   ]
  },
  {
   "cell_type": "code",
   "execution_count": 27,
   "metadata": {},
   "outputs": [],
   "source": [
    "paradaEspanol=nltk.corpus.stopwords.words('spanish')\n"
   ]
  },
  {
   "cell_type": "code",
   "execution_count": 28,
   "metadata": {},
   "outputs": [],
   "source": [
    "def removeStopWords(wordList):\n",
    "    extraStopWords = [\"''\",\"``\",'en','el','que','la']\n",
    "    StopWords = paradaEspanol+ list(string.punctuation)+extraStopWords\n",
    "    cleanWordList = [word for word in wordList if word not in StopWords]\n",
    "    return cleanWordList"
   ]
  },
  {
   "cell_type": "code",
   "execution_count": 29,
   "metadata": {},
   "outputs": [],
   "source": [
    "sentenceDocs =  sentenceCollection.find()\n",
    "\n",
    "for doc in sentenceDocs:\n",
    "    text = doc['sentencia']\n",
    "    word_tokens = tokenizeByWord(text)\n",
    "    clean_word_tokens = removeStopWords(word_tokens)\n",
    "    dictionary = {\"_id\":doc['_id'],\"wordTokenList\":clean_word_tokens}\n",
    "    tokensCollection.insert_one(dictionary)"
   ]
  },
  {
   "cell_type": "code",
   "execution_count": null,
   "metadata": {},
   "outputs": [],
   "source": []
  }
 ],
 "metadata": {
  "kernelspec": {
   "display_name": "Python 3",
   "language": "python",
   "name": "python3"
  },
  "language_info": {
   "codemirror_mode": {
    "name": "ipython",
    "version": 3
   },
   "file_extension": ".py",
   "mimetype": "text/x-python",
   "name": "python",
   "nbconvert_exporter": "python",
   "pygments_lexer": "ipython3",
   "version": "3.7.4"
  }
 },
 "nbformat": 4,
 "nbformat_minor": 2
}
