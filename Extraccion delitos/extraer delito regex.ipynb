{
 "cells": [
  {
   "cell_type": "code",
   "execution_count": 12,
   "metadata": {},
   "outputs": [],
   "source": [
    "import re"
   ]
  },
  {
   "cell_type": "code",
   "execution_count": 13,
   "metadata": {},
   "outputs": [],
   "source": [
    "import pymongo\n",
    "client = pymongo.MongoClient(\"mongodb://localhost:27017/\")\n",
    "sentencesDB  = client[\"Sentencias\"]\n",
    "documentCollection = sentencesDB[\"Sentencias Judiciales minuscula\"]\n",
    "wordCollection = sentencesDB[\"WordTokens\"]\n",
    "sentenceCollection = sentencesDB[\"oracionTokens\"]"
   ]
  },
  {
   "cell_type": "code",
   "execution_count": 14,
   "metadata": {},
   "outputs": [],
   "source": [
    "#recuperar lista delitos\n",
    "with open(\"delitos.txt\", encoding=\"utf-8\") as file:\n",
    "    lista_delitos = [l.rstrip(\"\\n\") for l in file]"
   ]
  },
  {
   "cell_type": "code",
   "execution_count": 15,
   "metadata": {},
   "outputs": [],
   "source": [
    "def extraerDelitosSentencia(sentencia):\n",
    "    delitos = []\n",
    "    for delito in lista_delitos:\n",
    "        if re.search(delito, sentencia):\n",
    "            delitos.append(delito)\n",
    "    return delitos"
   ]
  },
  {
   "cell_type": "code",
   "execution_count": 17,
   "metadata": {},
   "outputs": [],
   "source": [
    "def agregarDelitos(docs):\n",
    "    for doc in docs:\n",
    "        sentencia = doc['sentencia']\n",
    "        query = {'_id': doc['_id']} \n",
    "        nuevo_valor = { \"$set\": { \"delitos\": extraerDelitosSentencia(sentencia)}}\n",
    "        documentCollection.update_one(query,nuevo_valor)\n",
    "    return docs\n",
    "        \n",
    "    "
   ]
  },
  {
   "cell_type": "code",
   "execution_count": 18,
   "metadata": {},
   "outputs": [
    {
     "data": {
      "text/plain": [
       "<pymongo.cursor.Cursor at 0x2867e82d208>"
      ]
     },
     "execution_count": 18,
     "metadata": {},
     "output_type": "execute_result"
    }
   ],
   "source": [
    "docs = documentCollection.find()\n",
    "agregarDelitos(docs)"
   ]
  },
  {
   "cell_type": "code",
   "execution_count": 20,
   "metadata": {},
   "outputs": [],
   "source": [
    "import pandas as pd\n",
    "cursor = documentCollection.find()\n",
    "df =  pd.DataFrame(list(cursor))"
   ]
  },
  {
   "cell_type": "code",
   "execution_count": 21,
   "metadata": {},
   "outputs": [
    {
     "data": {
      "text/html": [
       "<div>\n",
       "<style scoped>\n",
       "    .dataframe tbody tr th:only-of-type {\n",
       "        vertical-align: middle;\n",
       "    }\n",
       "\n",
       "    .dataframe tbody tr th {\n",
       "        vertical-align: top;\n",
       "    }\n",
       "\n",
       "    .dataframe thead th {\n",
       "        text-align: right;\n",
       "    }\n",
       "</style>\n",
       "<table border=\"1\" class=\"dataframe\">\n",
       "  <thead>\n",
       "    <tr style=\"text-align: right;\">\n",
       "      <th></th>\n",
       "      <th>_id</th>\n",
       "      <th>url</th>\n",
       "      <th>sentencia</th>\n",
       "      <th>delitos</th>\n",
       "    </tr>\n",
       "  </thead>\n",
       "  <tbody>\n",
       "    <tr>\n",
       "      <td>0</td>\n",
       "      <td>5e9dc2a8ae8a3bcfbdb7debf</td>\n",
       "      <td>http://tribunalsupremo.organojudicial.gob.bo/A...</td>\n",
       "      <td>\\n  sala \\r\\n  plena\\n \\nauto \\r\\n  supremo 12...</td>\n",
       "      <td>robo agravado</td>\n",
       "    </tr>\n",
       "    <tr>\n",
       "      <td>1</td>\n",
       "      <td>5e9dc2a8ae8a3bcfbdb7dec0</td>\n",
       "      <td>http://tribunalsupremo.organojudicial.gob.bo/A...</td>\n",
       "      <td>\\n  sala plena\\n\\nsentencia            \\r\\n   ...</td>\n",
       "      <td>violación</td>\n",
       "    </tr>\n",
       "    <tr>\n",
       "      <td>2</td>\n",
       "      <td>5e9dc2a8ae8a3bcfbdb7dec1</td>\n",
       "      <td>http://tribunalsupremo.organojudicial.gob.bo/A...</td>\n",
       "      <td>\\n  sala plena\\n\\nsentencia            \\r\\n   ...</td>\n",
       "      <td>incumplimiento de deberes</td>\n",
       "    </tr>\n",
       "    <tr>\n",
       "      <td>3</td>\n",
       "      <td>5e9dc2a8ae8a3bcfbdb7dec2</td>\n",
       "      <td>http://tribunalsupremo.organojudicial.gob.bo/A...</td>\n",
       "      <td>\\n  sala plena\\n\\nsentencia            \\r\\n   ...</td>\n",
       "      <td>NaN</td>\n",
       "    </tr>\n",
       "    <tr>\n",
       "      <td>4</td>\n",
       "      <td>5e9dc2a8ae8a3bcfbdb7dec3</td>\n",
       "      <td>http://tribunalsupremo.organojudicial.gob.bo/A...</td>\n",
       "      <td>\\n  sala plena\\n\\nsentencia            \\r\\n   ...</td>\n",
       "      <td>secuestro</td>\n",
       "    </tr>\n",
       "  </tbody>\n",
       "</table>\n",
       "</div>"
      ],
      "text/plain": [
       "                        _id  \\\n",
       "0  5e9dc2a8ae8a3bcfbdb7debf   \n",
       "1  5e9dc2a8ae8a3bcfbdb7dec0   \n",
       "2  5e9dc2a8ae8a3bcfbdb7dec1   \n",
       "3  5e9dc2a8ae8a3bcfbdb7dec2   \n",
       "4  5e9dc2a8ae8a3bcfbdb7dec3   \n",
       "\n",
       "                                                 url  \\\n",
       "0  http://tribunalsupremo.organojudicial.gob.bo/A...   \n",
       "1  http://tribunalsupremo.organojudicial.gob.bo/A...   \n",
       "2  http://tribunalsupremo.organojudicial.gob.bo/A...   \n",
       "3  http://tribunalsupremo.organojudicial.gob.bo/A...   \n",
       "4  http://tribunalsupremo.organojudicial.gob.bo/A...   \n",
       "\n",
       "                                           sentencia  \\\n",
       "0  \\n  sala \\r\\n  plena\\n \\nauto \\r\\n  supremo 12...   \n",
       "1  \\n  sala plena\\n\\nsentencia            \\r\\n   ...   \n",
       "2  \\n  sala plena\\n\\nsentencia            \\r\\n   ...   \n",
       "3  \\n  sala plena\\n\\nsentencia            \\r\\n   ...   \n",
       "4  \\n  sala plena\\n\\nsentencia            \\r\\n   ...   \n",
       "\n",
       "                     delitos  \n",
       "0              robo agravado  \n",
       "1                  violación  \n",
       "2  incumplimiento de deberes  \n",
       "3                        NaN  \n",
       "4                  secuestro  "
      ]
     },
     "execution_count": 21,
     "metadata": {},
     "output_type": "execute_result"
    }
   ],
   "source": [
    "df.head()"
   ]
  },
  {
   "cell_type": "code",
   "execution_count": 28,
   "metadata": {},
   "outputs": [
    {
     "data": {
      "text/html": [
       "<div>\n",
       "<style scoped>\n",
       "    .dataframe tbody tr th:only-of-type {\n",
       "        vertical-align: middle;\n",
       "    }\n",
       "\n",
       "    .dataframe tbody tr th {\n",
       "        vertical-align: top;\n",
       "    }\n",
       "\n",
       "    .dataframe thead th {\n",
       "        text-align: right;\n",
       "    }\n",
       "</style>\n",
       "<table border=\"1\" class=\"dataframe\">\n",
       "  <thead>\n",
       "    <tr style=\"text-align: right;\">\n",
       "      <th></th>\n",
       "      <th>_id</th>\n",
       "      <th>url</th>\n",
       "      <th>sentencia</th>\n",
       "      <th>delitos</th>\n",
       "    </tr>\n",
       "  </thead>\n",
       "  <tbody>\n",
       "    <tr>\n",
       "      <td>3</td>\n",
       "      <td>5e9dc2a8ae8a3bcfbdb7dec2</td>\n",
       "      <td>http://tribunalsupremo.organojudicial.gob.bo/A...</td>\n",
       "      <td>\\n  sala plena\\n\\nsentencia            \\r\\n   ...</td>\n",
       "      <td>NaN</td>\n",
       "    </tr>\n",
       "    <tr>\n",
       "      <td>6</td>\n",
       "      <td>5e9dc2a8ae8a3bcfbdb7dec5</td>\n",
       "      <td>http://tribunalsupremo.organojudicial.gob.bo/A...</td>\n",
       "      <td>\\n  sala plena\\n\\nsentencia            \\r\\n   ...</td>\n",
       "      <td>NaN</td>\n",
       "    </tr>\n",
       "    <tr>\n",
       "      <td>8</td>\n",
       "      <td>5e9dc2a8ae8a3bcfbdb7dec7</td>\n",
       "      <td>http://tribunalsupremo.organojudicial.gob.bo/A...</td>\n",
       "      <td>\\n\\n\\n\\nexp 9042014 contencioso administrativo...</td>\n",
       "      <td>NaN</td>\n",
       "    </tr>\n",
       "    <tr>\n",
       "      <td>10</td>\n",
       "      <td>5e9dc2a9ae8a3bcfbdb7dec9</td>\n",
       "      <td>http://tribunalsupremo.organojudicial.gob.bo/A...</td>\n",
       "      <td>\\n\\n\\n\\nexp 7272014 contencioso empresa uniper...</td>\n",
       "      <td>NaN</td>\n",
       "    </tr>\n",
       "    <tr>\n",
       "      <td>12</td>\n",
       "      <td>5e9dc2a9ae8a3bcfbdb7decb</td>\n",
       "      <td>http://tribunalsupremo.organojudicial.gob.bo/A...</td>\n",
       "      <td>\\nsala plena\\n\\nsentencia       \\r\\n          ...</td>\n",
       "      <td>NaN</td>\n",
       "    </tr>\n",
       "  </tbody>\n",
       "</table>\n",
       "</div>"
      ],
      "text/plain": [
       "                         _id  \\\n",
       "3   5e9dc2a8ae8a3bcfbdb7dec2   \n",
       "6   5e9dc2a8ae8a3bcfbdb7dec5   \n",
       "8   5e9dc2a8ae8a3bcfbdb7dec7   \n",
       "10  5e9dc2a9ae8a3bcfbdb7dec9   \n",
       "12  5e9dc2a9ae8a3bcfbdb7decb   \n",
       "\n",
       "                                                  url  \\\n",
       "3   http://tribunalsupremo.organojudicial.gob.bo/A...   \n",
       "6   http://tribunalsupremo.organojudicial.gob.bo/A...   \n",
       "8   http://tribunalsupremo.organojudicial.gob.bo/A...   \n",
       "10  http://tribunalsupremo.organojudicial.gob.bo/A...   \n",
       "12  http://tribunalsupremo.organojudicial.gob.bo/A...   \n",
       "\n",
       "                                            sentencia delitos  \n",
       "3   \\n  sala plena\\n\\nsentencia            \\r\\n   ...     NaN  \n",
       "6   \\n  sala plena\\n\\nsentencia            \\r\\n   ...     NaN  \n",
       "8   \\n\\n\\n\\nexp 9042014 contencioso administrativo...     NaN  \n",
       "10  \\n\\n\\n\\nexp 7272014 contencioso empresa uniper...     NaN  \n",
       "12  \\nsala plena\\n\\nsentencia       \\r\\n          ...     NaN  "
      ]
     },
     "execution_count": 28,
     "metadata": {},
     "output_type": "execute_result"
    }
   ],
   "source": [
    "df1 = df[df.isna().any(axis=1)]\n",
    "df1.head()"
   ]
  },
  {
   "cell_type": "code",
   "execution_count": 23,
   "metadata": {},
   "outputs": [
    {
     "data": {
      "text/plain": [
       "(13532, 4)"
      ]
     },
     "execution_count": 23,
     "metadata": {},
     "output_type": "execute_result"
    }
   ],
   "source": [
    "df1.shape\n"
   ]
  },
  {
   "cell_type": "code",
   "execution_count": 31,
   "metadata": {},
   "outputs": [
    {
     "data": {
      "text/plain": [
       "'http://tribunalsupremo.organojudicial.gob.bo/AS/plena/SE-2018/se201800041.html'"
      ]
     },
     "execution_count": 31,
     "metadata": {},
     "output_type": "execute_result"
    }
   ],
   "source": [
    "df1['url'][3]"
   ]
  },
  {
   "cell_type": "code",
   "execution_count": null,
   "metadata": {},
   "outputs": [],
   "source": []
  }
 ],
 "metadata": {
  "kernelspec": {
   "display_name": "Python 3",
   "language": "python",
   "name": "python3"
  },
  "language_info": {
   "codemirror_mode": {
    "name": "ipython",
    "version": 3
   },
   "file_extension": ".py",
   "mimetype": "text/x-python",
   "name": "python",
   "nbconvert_exporter": "python",
   "pygments_lexer": "ipython3",
   "version": "3.7.4"
  }
 },
 "nbformat": 4,
 "nbformat_minor": 2
}
